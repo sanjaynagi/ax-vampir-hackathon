{
  "cells": [
    {
      "cell_type": "markdown",
      "metadata": {
        "id": "view-in-github",
        "colab_type": "text"
      },
      "source": [
        "<a href=\"https://colab.research.google.com/github/sanjaynagi/ax-vampir-hackathon/blob/main/Ax-vampIR-hackathon.ipynb\" target=\"_parent\"><img src=\"https://colab.research.google.com/assets/colab-badge.svg\" alt=\"Open In Colab\"/></a>"
      ]
    },
    {
      "cell_type": "markdown",
      "metadata": {
        "id": "dc6b6b04-f3d7-45b4-bd7b-258d79dad6de"
      },
      "source": [
        "<center>\n",
        "<figure>\n",
        "  <img src=\"https://raw.githubusercontent.com/sanjaynagi/ax-vampir-hackathon/refs/heads/main/docs/new-vigg-logo1.png\" alt=\"Description\" width=\"480\" height=\"180\">\n",
        "</figure>\n",
        "</center>\n",
        "\n",
        "\n",
        "## **Ax-vampIR VIGG Hackathon: Designing amplicon panels in other disease vectors**\n",
        "\n",
        "Targeted genomic surveillance through amplicon sequencing allows us\n",
        "to focus on specific genomic regions of interest, enabling routing surviellance at larger scale than whole-genome sequencing. For vectors,\n",
        "this enables the tracking of insecticide resistance, species\n",
        "ID markers, and other important genetic variants.\n",
        "\n",
        "#### **Workshop Aims**\n",
        "\n",
        "1.  Find orthologous insecticide resistance loci in your target vector\n",
        "    species using IRTHO\n",
        "2.  Design a multiplexed PCR primer panel targeting these loci using\n",
        "    MULTIPLY\n",
        "<br></br>\n",
        "\n"
      ],
      "id": "dc6b6b04-f3d7-45b4-bd7b-258d79dad6de"
    },
    {
      "cell_type": "markdown",
      "source": [
        "### Ag-vampIR and AmpSeeker recap\n",
        "\n",
        "Ag-vampIR (Anopheles gambiae Vector Amplicon Marker Panel for\n",
        "Insecticide Resistance) is a targeted sequencing panel designed for\n",
        "genomic surveillance of malaria vectors. The panel targets 90 important\n",
        "genomic loci across 80 amplicons in the Anopheles gambiae genome,\n",
        "including:\n",
        "\n",
        "-   55 insecticide resistance-associated SNPs\n",
        "    -   Target-site mutations (kdr, Ace1, Rdl)\n",
        "    -   Metabolic resistance markers\n",
        "    -   SNPs tagging selective sweeps\n",
        "-   35 ancestry informative markers (AIMs) for species identification\n",
        "-   Two amplicons targeting the doublesex gene drive locus\n",
        "\n",
        "Each amplicon is approximately 200 bp long. The protocols design allows\n",
        "multiplexing of up to 1,536 samples on a single flow cell using dual\n",
        "indexing with 96 i7 and 16 i5 adaptors.\n",
        "\n",
        "#### **AmpSeeker**\n",
        "\n",
        "AmpSeeker is an open-source computational pipeline designed for\n",
        "reproducible analysis of amplicon sequencing data, which can analyze\n",
        "data from any Illumina amplicon sequencing panel.\n",
        "\n",
        "<center>\n",
        "<figure>\n",
        "  <img src=\"https://raw.githubusercontent.com/sanjaynagi/ax-vampir-hackathon/refs/heads/main/docs/figure1_new.png\" alt=\"Description\" width=\"600\" height=\"600\">\n",
        "  <figcaption>Figure: A) Ag-vampIR loci B) Overview of the Ag-vampIR laboratory protocol and AmpSeeker bioinformatics pipeline. </figcaption>\n",
        "</figure>\n",
        "</center>\n",
        "\n",
        "<br></br>"
      ],
      "metadata": {
        "id": "RJ7PrN4gIw1F"
      },
      "id": "RJ7PrN4gIw1F"
    },
    {
      "cell_type": "markdown",
      "source": [
        "\n",
        "## Part 1: Introduction to Irtho\n",
        "\n",
        "Many known mutations that confer insecticide resistance in insects are examples of parallel evolution; they are shared between species. Although you would ideally have a set of resistance markers to target in your organism of choice, exploiting this fact can help us design panels in other, lesser known vectors. The aim of the first part of this workshop is take known insecticide resistance loci in one vector, and find the orthologous regions in another.\n",
        "\n",
        "Irtho is a Python package that identifies orthologous loci between\n",
        "reference genomes. It uses the tool [OrthoFinder](https://github.com/davidemms/OrthoFinder) to find orthologous genes between reference genomes, and provides tools to support the analysis.\n",
        "\n",
        "Key capabilities:\n",
        "- Identifies orthologous genes between species   \n",
        "- Determines synteny between orthologous genes   \n",
        "- Aligns protein sequences to find the orthologous positions of amino acid residues\n",
        "- Suggests residues to target in case of no prior knowledge\n",
        "\n",
        "![IRTHO Workflow](https://placeholder-for-irtho-workflow.png) *Figure 2:\n",
        "IRTHO workflow diagram*\n",
        "\n",
        "### Available Reference Genomes\n",
        "\n",
        "Currently available in pre-computed OrthoFinder results:\n",
        "- Anopheles gambiae (PEST)\n",
        "- Anopheles stephensi (UCISS2018)\n",
        "- Anopheles dirus (WRAIR2)\n",
        "- Anopheles minimus (MINIMUS2)\n",
        "- Anopheles sinensis (CHINA)\n",
        "- Aedes aegypti (LVP_AGWG)   \n",
        "- Aedes albopictus (AalbF5)\n",
        "- Culex quinquefasciatus (JHB2020)\n",
        "- Lutzomyia Longipalpis (ASM)\n",
        "- Additional vectors can be added using protein FASTA and GFF files from\n",
        "VectorBase or RefSeq\n",
        "\n",
        "For the hackathon I suggest sticking to the pre-computed results, although i note that OrthoFinder is super fast.\n"
      ],
      "metadata": {
        "id": "KD_u6LJJIm6S"
      },
      "id": "KD_u6LJJIm6S"
    },
    {
      "cell_type": "markdown",
      "source": [
        "\n",
        "## Part 2: Introduction to Multiply\n",
        "\n",
        "Multiply is a command-line tool for designing multiplexed PCR primers.\n",
        "It was recently published in [Nature Comms](https://www.nature.com/articles/s41467-024-45688-z) alongside NOMADS8 and NOMADS16, nanopore panels for *Plasmodium falciparum* and supports both Illumina and Nanopore.\n",
        "\n",
        "<center>\n",
        "<figure>\n",
        "  <img src=\"https://raw.githubusercontent.com/JasonAHendry/multiply/master/.images/multiply-pipeline.png\" alt=\"Description\" width=\"800\" height=\"600\">\n",
        "  <figcaption>MULTIPLY pipeline overview</figcaption>\n",
        "</figure>\n",
        "</center>\n",
        "\n",
        "### Design Considerations\n",
        "\n",
        "When designing amplicon panels, it is important to consider these\n",
        "factors:\n",
        "\n",
        "**Sequencing Platforms**  \n",
        "\n",
        "This workshop can be used to design amplicon panels for both Illumina\n",
        "and Oxford Nanopore Technologies (ONT) sequencing. Illumina enables use\n",
        "of the AmpSeeker pipeline and is consistent with the ongoing training in\n",
        "the EAVES and WAVES projects. The only modification needed for Nanopore\n",
        "would be adjusting amplicon size in MULTIPLY.\n",
        "\n",
        "**Amplicon Size**  \n",
        "For Illumina sequencing, aim for ~200bp to enable\n",
        "complete coverage with paired-end reads and maximize sequencing\n",
        "efficiency. For Nanopore, amplicons can be 400-3000bp.\n",
        "\n",
        "**Primer Specificity**  \n",
        "Design primers 18-22 bases long with 40-60% GC\n",
        "content and similar melting temperatures (57-63°C) to ensure specific\n",
        "amplification of target regions.\n",
        "\n",
        "**Genetic Variation**  \n",
        "Check existing population genomic data to avoid\n",
        "placing primers over known polymorphic sites, which can cause allele\n",
        "dropout and false negatives. Multiply can take a BED file of SNP\n",
        "locations and consider this when selecting optimal primers.\n",
        "\n",
        "**Multiplexing Compatibility**  \n",
        "Avoid complementary sequences between\n",
        "primers that could form dimers, and aim for similar GC content and\n",
        "amplicon sizes. Multiply takes care of this.\n"
      ],
      "metadata": {
        "id": "x8eZdvAuIj6D"
      },
      "id": "x8eZdvAuIj6D"
    },
    {
      "cell_type": "markdown",
      "source": [
        "# **Workshop**"
      ],
      "metadata": {
        "id": "V1AQJKpvGhbF"
      },
      "id": "V1AQJKpvGhbF"
    },
    {
      "cell_type": "code",
      "source": [
        "# Clone required repositories\n",
        "!git clone https://github.com/sanjaynagi/ax-vampir-hackathon\n",
        "!git clone https://github.com/sanjaynagi/irtho\n",
        "!git clone https://github.com/sanjaynagi/multiply\n",
        "\n",
        "# get bedtools if performing snp analysis\n",
        "# !wget https://github.com/arq5x/bedtools2/releases/download/v2.29.1/bedtools-2.29.1.tar.gz\n",
        "# !tar -zxvf bedtools-2.29.1.tar.gz\n",
        "# !cd bedtools2 && make && cp bin/bedtools /bin/\n",
        "\n",
        "!git clone https://github.com/primer3-org/primer3.git primer3\n",
        "!cd primer3/src && make\n",
        "!cp primer3/src/primer3_core /bin/\n",
        "\n",
        "!wget https://ftp.ncbi.nlm.nih.gov/blast/executables/blast+/LATEST/ncbi-blast-2.16.0+-x64-linux.tar.gz\n",
        "!tar -xvzf ncbi-blast-2.16.0+-x64-linux.tar.gz\n",
        "!cp ncbi-blast-2.16.0+/bin/* /bin/"
      ],
      "metadata": {
        "id": "Ocy8XpJjc-Le"
      },
      "id": "Ocy8XpJjc-Le",
      "execution_count": null,
      "outputs": []
    },
    {
      "cell_type": "code",
      "source": [
        "%pip install -e /content/multiply /content/irtho primer3-py pandas numpy numba pysam seaborn biopython -q"
      ],
      "metadata": {
        "id": "iXTu57h8i9WR"
      },
      "id": "iXTu57h8i9WR",
      "execution_count": null,
      "outputs": []
    },
    {
      "cell_type": "code",
      "source": [
        "import irtho\n",
        "import multiply\n",
        "import pandas as pd"
      ],
      "metadata": {
        "id": "ZF0M1pLPJWWZ"
      },
      "id": "ZF0M1pLPJWWZ",
      "execution_count": null,
      "outputs": []
    },
    {
      "cell_type": "markdown",
      "source": [
        "### Part 1: Finding Orthologous Loci with Irtho"
      ],
      "metadata": {
        "id": "7P7fEmAEbLAD"
      },
      "id": "7P7fEmAEbLAD"
    },
    {
      "cell_type": "code",
      "source": [
        "reference_species = \"AgambiaePEST\"\n",
        "target_species = \"\"\n",
        "\n",
        "# Load input targets\n",
        "targets_df = pd.read_csv(\"/content/ax-vampir-hackathon/resources/irtho-targets.tsv\", sep=\"\\t\")\n",
        "\n",
        "results_dir = \"/content/ax-vampir-hackathon/results/orthofinder/Results_Feb03_1\"\n",
        "!mkdir ax-vampir-hackathon/resources/reference/\n",
        "reference_dir = \"/content/ax-vampir-hackathon/resources/reference\"\n",
        "\n",
        "# Reference species downloads\n",
        "!wget https://vectorbase.org/common/downloads/release-68/{reference_species}/fasta/data/VectorBase-68_{reference_species}_AnnotatedProteins.fasta -O ax-vampir-hackathon/resources/reference/{reference_species}_AnnotatedProteins.fasta\n",
        "!wget https://vectorbase.org/common/downloads/release-68/{reference_species}/gff/data/VectorBase-68_{reference_species}.gff -O ax-vampir-hackathon/resources/reference/{reference_species}.gff\n",
        "# Target species downloads\n",
        "!wget https://vectorbase.org/common/downloads/release-68/{target_species}/fasta/data/VectorBase-68_{target_species}_AnnotatedProteins.fasta -O ax-vampir-hackathon/resources/reference/{target_species}_AnnotatedProteins.fasta\n",
        "!wget https://vectorbase.org/common/downloads/release-68/{target_species}/gff/data/VectorBase-68_{target_species}.gff -O ax-vampir-hackathon/resources/reference/{target_species}.gff"
      ],
      "metadata": {
        "id": "5qC5naY3vSQB"
      },
      "id": "5qC5naY3vSQB",
      "execution_count": null,
      "outputs": []
    },
    {
      "cell_type": "code",
      "source": [
        "ortho = irtho.Orthologs(results_dir)\n",
        "\n",
        "targets_ortho_df = ortho.map_input_genes_to_orthologs(\n",
        "    targets_df,\n",
        "    reference_species,\n",
        "    target_species\n",
        ")\n",
        "\n",
        "targets_ortho_df = irtho.split_one_to_many_orthologs(targets_ortho_df, target_species)\n",
        "targets_ortho_df"
      ],
      "metadata": {
        "id": "xUtU5HZYa9bC"
      },
      "id": "xUtU5HZYa9bC",
      "execution_count": null,
      "outputs": []
    },
    {
      "cell_type": "code",
      "source": [
        "final_targets_df = ortho.find_orthologous_targets(\n",
        "    targets_ortho_df,\n",
        "    reference_dir=reference_dir,\n",
        "    ref_genome=reference_species,\n",
        "    target_genome=target_species\n",
        ")"
      ],
      "metadata": {
        "id": "IX_UZZAS2OyA"
      },
      "id": "IX_UZZAS2OyA",
      "execution_count": null,
      "outputs": []
    },
    {
      "cell_type": "code",
      "source": [
        "final_targets_df"
      ],
      "metadata": {
        "id": "oEpwfzUKKBOO"
      },
      "id": "oEpwfzUKKBOO",
      "execution_count": null,
      "outputs": []
    },
    {
      "cell_type": "code",
      "source": [
        "# Write targets with coordinates to BED format\n",
        "final_targets_bed = final_targets_df.assign(unique_id=lambda x: x[target_species] + \"-\" + x.target_codon.astype(str))[['target_chrom', 'target_start', 'target_end', 'unique_id']][final_targets_df['target_start'].astype(str).str.isnumeric()]\n",
        "final_targets_bed = final_targets_bed.drop_duplicates()\n",
        "final_targets_bed.to_csv(\"targets.bed\", sep=\"\\t\", index=False, header=False)\n",
        "final_targets_bed"
      ],
      "metadata": {
        "id": "6GHRLCGOIONn"
      },
      "id": "6GHRLCGOIONn",
      "execution_count": null,
      "outputs": []
    },
    {
      "cell_type": "markdown",
      "source": [
        "### Part 2: Designing Primers with MULTIPLY\n",
        "\n",
        "First, edit the multiply/genomes/collection.ini and add your vector species! then run the below download command."
      ],
      "metadata": {
        "id": "fiazDHGNbW5I"
      },
      "id": "fiazDHGNbW5I"
    },
    {
      "cell_type": "code",
      "source": [
        "# Download reference genome for your target species\n",
        "!multiply download -g {target_species}"
      ],
      "metadata": {
        "id": "tB6TJzHnbcDm"
      },
      "id": "tB6TJzHnbcDm",
      "execution_count": null,
      "outputs": []
    },
    {
      "cell_type": "code",
      "source": [
        "# regions in proximity of less than the amplicon length must first be merged or multiply will fail\n",
        "!python ax-vampir-hackathon/merge-bed.py targets.bed targets_merged.bed -d 130"
      ],
      "metadata": {
        "id": "osEkYze3ONCD"
      },
      "id": "osEkYze3ONCD",
      "execution_count": null,
      "outputs": []
    },
    {
      "cell_type": "markdown",
      "source": [
        "Now, we must edit the .ini file in ax-vampir-hackathon directory, to fit your species and preferences"
      ],
      "metadata": {
        "id": "BjNpgcH_cQfu"
      },
      "id": "BjNpgcH_cQfu"
    },
    {
      "cell_type": "code",
      "source": [
        "# Run MULTIPLY pipeline\n",
        "!multiply pipeline -d ax-vampir-hackathon/ax-vampir.ini"
      ],
      "metadata": {
        "id": "xogzJDopGmcR"
      },
      "id": "xogzJDopGmcR",
      "execution_count": null,
      "outputs": []
    },
    {
      "cell_type": "markdown",
      "source": [
        "### Panel design complete!!\n",
        "\n",
        "Download the results folder from the left panel!!"
      ],
      "metadata": {
        "id": "wuQXBK9JY55f"
      },
      "id": "wuQXBK9JY55f"
    },
    {
      "cell_type": "markdown",
      "source": [
        "## Resources\n",
        "\n",
        "-   irtho Documentation: [GitHub](https://github.com/sanjaynagi/irtho)\n",
        "-   multiply Documentation: [GitHub](https://github.com/JasonAHendry/multiply)\n",
        "-   multiply Paper: [Nature Communications](https://www.nature.com/articles/s41467-024-45688-z)\n",
        "-   VectorBase: <https://vectorbase.org>"
      ],
      "metadata": {
        "id": "LBLrTp_k71KC"
      },
      "id": "LBLrTp_k71KC"
    }
  ],
  "nbformat": 4,
  "nbformat_minor": 5,
  "metadata": {
    "colab": {
      "provenance": [],
      "include_colab_link": true
    },
    "language_info": {
      "name": "python"
    },
    "kernelspec": {
      "name": "python3",
      "display_name": "Python 3"
    }
  }
}