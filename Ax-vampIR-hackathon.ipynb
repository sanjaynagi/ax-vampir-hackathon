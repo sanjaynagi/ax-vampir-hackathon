{
  "cells": [
    {
      "cell_type": "markdown",
      "metadata": {
        "id": "dc6b6b04-f3d7-45b4-bd7b-258d79dad6de"
      },
      "source": [
        "<center>\n",
        "<figure>\n",
        "  <img src=\"https://raw.githubusercontent.com/sanjaynagi/ax-vampir-hackathon/refs/heads/main/docs/new-vigg-logo1.png\" alt=\"Description\" width=\"500\" height=\"180\">\n",
        "</figure>\n",
        "</center>\n",
        "\n",
        "\n",
        "## **Ax-vampIR VIGG Hackathon: Designing amplicon panels in other disease vectors**\n",
        "\n",
        "Targeted genomic surveillance through amplicon sequencing allows us\n",
        "to focus on specific genomic regions of interest, enabling routing surviellance at larger scale than whole-genome sequencing. For vectors,\n",
        "this enables the tracking of insecticide resistance, species\n",
        "ID markers, and other important genetic variants.\n",
        "\n",
        "#### **Workshop Aims**\n",
        "\n",
        "1.  Find orthologous insecticide resistance loci in your target vector\n",
        "    species using IRTHO\n",
        "2.  Design a multiplexed PCR primer panel targeting these loci using\n",
        "    MULTIPLY\n",
        "<br></br>\n",
        "\n"
      ],
      "id": "dc6b6b04-f3d7-45b4-bd7b-258d79dad6de"
    },
    {
      "cell_type": "markdown",
      "source": [
        "### Ag-vampIR and AmpSeeker recap\n",
        "\n",
        "Ag-vampIR (Anopheles gambiae Vector Amplicon Marker Panel for\n",
        "Insecticide Resistance) is a targeted sequencing panel designed for\n",
        "genomic surveillance of malaria vectors. The panel targets 90 important\n",
        "genomic loci across 80 amplicons in the Anopheles gambiae genome,\n",
        "including:\n",
        "\n",
        "-   55 insecticide resistance-associated SNPs\n",
        "    -   Target-site mutations (kdr, Ace1, Rdl)\n",
        "    -   Metabolic resistance markers\n",
        "    -   SNPs tagging selective sweeps\n",
        "-   35 ancestry informative markers (AIMs) for species identification\n",
        "-   Two amplicons targeting the doublesex gene drive locus\n",
        "\n",
        "Each amplicon is approximately 200 bp long. The protocols design allows\n",
        "multiplexing of up to 1,536 samples on a single flow cell using dual\n",
        "indexing with 96 i7 and 16 i5 adaptors.\n",
        "\n",
        "#### **AmpSeeker**\n",
        "\n",
        "AmpSeeker is an open-source computational pipeline designed for\n",
        "reproducible analysis of amplicon sequencing data, which can analyze\n",
        "data from any Illumina amplicon sequencing panel.\n",
        "\n",
        "<center>\n",
        "<figure>\n",
        "  <img src=\"https://raw.githubusercontent.com/sanjaynagi/ax-vampir-hackathon/refs/heads/main/docs/figure1_new.png\" alt=\"Description\" width=\"600\" height=\"600\">\n",
        "  <figcaption>Figure: A) Ag-vampIR loci B) Overview of the Ag-vampIR laboratory protocol and AmpSeeker bioinformatics pipeline. </figcaption>\n",
        "</figure>\n",
        "</center>\n",
        "\n",
        "<br></br>"
      ],
      "metadata": {
        "id": "RJ7PrN4gIw1F"
      },
      "id": "RJ7PrN4gIw1F"
    },
    {
      "cell_type": "markdown",
      "source": [
        "\n",
        "## Part 1: Introduction to Irtho\n",
        "\n",
        "Many known mutations that confer insecticide resistance in insects are examples of parallel evolution; they are shared between species. Although you would ideally have a set of resistance markers to target in your organism of choice, exploiting this fact can help us design panels in other, lesser known vectors. The aim of the first part of this workshop is take known insecticide resistance loci in one vector, and find the orthologous regions in another.\n",
        "\n",
        "Irtho is a Python package that identifies orthologous loci between\n",
        "reference genomes. It uses the tool [OrthoFinder](https://github.com/davidemms/OrthoFinder) to find orthologous genes between reference genomes, and provides tools to support the analysis.\n",
        "\n",
        "Key capabilities:\n",
        "- Identifies orthologous genes between species   \n",
        "- Determines synteny between orthologous genes   \n",
        "- Aligns protein sequences to find the orthologous positions of amino acid residues\n",
        "- Suggests residues to target in case of no prior knowledge\n",
        "\n",
        "![IRTHO Workflow](https://placeholder-for-irtho-workflow.png) *Figure 2:\n",
        "IRTHO workflow diagram*\n",
        "\n",
        "### Available Reference Genomes\n",
        "\n",
        "Currently available in pre-computed OrthoFinder results:\n",
        "- Anopheles gambiae (PEST)\n",
        "- Anopheles stephensi (UCISS2018)\n",
        "- Anopheles dirus (WRAIR2)\n",
        "- Anopheles minimus (MINIMUS2)\n",
        "- Anopheles sinensis (CHINA)\n",
        "- Aedes aegypti (LVP_AGWG)   \n",
        "- Aedes albopictus (AalbF5)\n",
        "- Culex quinquefasciatus (JHB2020)\n",
        "- Lutzomyia Longipalpis (ASM)\n",
        "- Additional vectors can be added using protein FASTA and GFF files from\n",
        "VectorBase or RefSeq\n",
        "\n",
        "For the hackathon I suggest sticking to the pre-computed results, although i note that OrthoFinder is super fast.\n"
      ],
      "metadata": {
        "id": "KD_u6LJJIm6S"
      },
      "id": "KD_u6LJJIm6S"
    },
    {
      "cell_type": "markdown",
      "source": [
        "\n",
        "## Part 2: Introduction to Multiply\n",
        "\n",
        "Multiply is a command-line tool for designing multiplexed PCR primers.\n",
        "It was recently published in [Nature Comms](https://www.nature.com/articles/s41467-024-45688-z) alongside NOMADS8 and NOMADS16, nanopore panels for *Plasmodium falciparum* and supports both Illumina and Nanopore.\n",
        "\n",
        "<center>\n",
        "<figure>\n",
        "  <img src=\"https://raw.githubusercontent.com/JasonAHendry/multiply/master/.images/multiply-pipeline.png\" alt=\"Description\" width=\"800\" height=\"600\">\n",
        "  <figcaption>MULTIPLY pipeline overview</figcaption>\n",
        "</figure>\n",
        "</center>\n",
        "\n",
        "### Design Considerations\n",
        "\n",
        "When designing amplicon panels, it is important to consider these\n",
        "factors:\n",
        "\n",
        "**Sequencing Platforms**  \n",
        "\n",
        "This workshop can be used to design amplicon panels for both Illumina\n",
        "and Oxford Nanopore Technologies (ONT) sequencing. Illumina enables use\n",
        "of the AmpSeeker pipeline and is consistent with the ongoing training in\n",
        "the EAVES and WAVES projects. The only modification needed for Nanopore\n",
        "would be adjusting amplicon size in MULTIPLY.\n",
        "\n",
        "**Amplicon Size**  \n",
        "For Illumina sequencing, aim for ~200bp to enable\n",
        "complete coverage with paired-end reads and maximize sequencing\n",
        "efficiency. For Nanopore, amplicons can be 400-3000bp.\n",
        "\n",
        "**Primer Specificity**  \n",
        "Design primers 18-22 bases long with 40-60% GC\n",
        "content and similar melting temperatures (57-63°C) to ensure specific\n",
        "amplification of target regions.\n",
        "\n",
        "**Genetic Variation**  \n",
        "Check existing population genomic data to avoid\n",
        "placing primers over known polymorphic sites, which can cause allele\n",
        "dropout and false negatives. Multiply can take a BED file of SNP\n",
        "locations and consider this when selecting optimal primers.\n",
        "\n",
        "**Multiplexing Compatibility**  \n",
        "Avoid complementary sequences between\n",
        "primers that could form dimers, and aim for similar GC content and\n",
        "amplicon sizes. Multiply takes care of this.\n"
      ],
      "metadata": {
        "id": "x8eZdvAuIj6D"
      },
      "id": "x8eZdvAuIj6D"
    },
    {
      "cell_type": "markdown",
      "source": [
        "# **Workshop**"
      ],
      "metadata": {
        "id": "V1AQJKpvGhbF"
      },
      "id": "V1AQJKpvGhbF"
    },
    {
      "cell_type": "code",
      "source": [
        "!git clone  https://github.com/sanjaynagi/ax-vampir-hackathon"
      ],
      "metadata": {
        "id": "kfto0MrvJAHF"
      },
      "id": "kfto0MrvJAHF",
      "execution_count": null,
      "outputs": []
    },
    {
      "cell_type": "code",
      "source": [
        "!git clone https://github.com/sanjaynagi/irtho\n"
      ],
      "metadata": {
        "id": "FWYhyhyyJFp0"
      },
      "id": "FWYhyhyyJFp0",
      "execution_count": null,
      "outputs": []
    },
    {
      "cell_type": "code",
      "source": [
        "!git clone https://github.com/JasonAHendry/multiply"
      ],
      "metadata": {
        "id": "p8BLQkWbJL2c"
      },
      "id": "p8BLQkWbJL2c",
      "execution_count": null,
      "outputs": []
    },
    {
      "cell_type": "code",
      "source": [
        "!curl -L https://micro.mamba.pm/api/micromamba/linux-64/latest | tar -xvj -C /usr/local/bin/ --strip-components=1 bin/micromamba\n",
        "!micromamba shell init -s bash\n",
        "!source ~/.bashrc"
      ],
      "metadata": {
        "id": "YkmenFv8Ja8O"
      },
      "id": "YkmenFv8Ja8O",
      "execution_count": null,
      "outputs": []
    },
    {
      "cell_type": "code",
      "source": [],
      "metadata": {
        "id": "kWWMyyAtKUE0"
      },
      "id": "kWWMyyAtKUE0",
      "execution_count": null,
      "outputs": []
    },
    {
      "cell_type": "code",
      "source": [
        "!micromamba env create -f /content/multiply/environments/run.yml -y\n",
        "!micromamba activate multiply-run"
      ],
      "metadata": {
        "collapsed": true,
        "id": "P3EN6jFKKQT3"
      },
      "id": "P3EN6jFKKQT3",
      "execution_count": null,
      "outputs": []
    },
    {
      "cell_type": "code",
      "source": [
        "# Clone required repositories\n",
        "!git clone https://github.com/sanjaynagi/ax-vampir-hackathon\n",
        "!git clone https://github.com/sanjaynagi/irtho\n",
        "!git clone https://github.com/JasonAHendry/multiply\n",
        "\n",
        "# Install IRTHO\n",
        "!cd irtho && pip install -e . && cd ..\n",
        "\n",
        "# Install micromamba\n",
        "!curl -L https://micro.mamba.pm/api/micromamba/linux-64/latest | tar -xvj -C /usr/local/bin/ --strip-components=1 bin/micromamba\n",
        "!micromamba shell init -s bash\n",
        "!source ~/.bashrc\n",
        "\n",
        "# Install MULTIPLY\n",
        "!micromamba env create -f /content/multiply/environments/run.yml -y\n",
        "!micromamba activate multiply-run\n",
        "!pip install -e /content/multiply/"
      ],
      "metadata": {
        "id": "EQhGz87bGouC"
      },
      "id": "EQhGz87bGouC",
      "execution_count": null,
      "outputs": []
    },
    {
      "cell_type": "code",
      "source": [
        "\n",
        "import irtho\n",
        "import multiply\n",
        "# Verify installations\n",
        "irtho --version\n",
        "multiply --version"
      ],
      "metadata": {
        "id": "ZF0M1pLPJWWZ"
      },
      "id": "ZF0M1pLPJWWZ",
      "execution_count": null,
      "outputs": []
    },
    {
      "cell_type": "markdown",
      "source": [
        "### Part 1: Finding Orthologous Loci with IRTHO\n",
        "\n",
        "``` python\n",
        "import pandas as pd\n",
        "import irtho\n",
        "\n",
        "# Load input targets\n",
        "targets_df = pd.read_csv(\"irtho-targets.tsv\", sep=\"\\t\")\n",
        "\n",
        "# Initialize ortholog finder\n",
        "reference_species = \"AgambiaePEST\"\n",
        "target_species = \"AstephensiUCISS2018\"\n",
        "results_dir = \"orthofinder/Results_Apr11\"\n",
        "\n",
        "ortho = irtho.Orthologs(results_dir)\n",
        "\n",
        "# Map genes and find orthologous positions\n",
        "targets_df = ortho.map_input_genes_to_orthologs(\n",
        "    targets_df,\n",
        "    reference_species,\n",
        "    target_species\n",
        ")\n",
        "\n",
        "targets_df = irtho.split_one_to_many_orthologs(targets_df, target_species)\n",
        "\n",
        "# Find orthologous targets and generate BED file\n",
        "final_targets_df = ortho.find_orthologous_targets(\n",
        "    targets_df,\n",
        "    reference_dir=\"reference/\",\n",
        "    ref_genome=reference_species,\n",
        "    target_genome=target_species\n",
        ")\n",
        "\n",
        "# Export to BED format\n",
        "final_targets_df.to_csv(\"target_regions.bed\", sep=\"\\t\", index=False)\n",
        "```\n",
        "\n",
        "------------------------------------------------------------------------\n",
        "\n",
        "### Part 2: Designing Primers with MULTIPLY\n",
        "\n",
        "``` bash\n",
        "# Download reference genome for your target species\n",
        "multiply download -g <YourSpecies>\n",
        "\n",
        "# Create design file\n",
        "cat > design.ini << EOF\n",
        "[Design]\n",
        "name = ax-vampir-test\n",
        "target_bed = target_regions.bed\n",
        "primer3_settings = standard\n",
        "EOF\n",
        "\n",
        "# Run MULTIPLY pipeline\n",
        "multiply pipeline -d design.ini\n",
        "```\n",
        "\n",
        "### Next Steps\n",
        "\n",
        "After completing the workshop, you should have: 1. A BED file containing\n",
        "orthologous resistance loci in your target species 2. A set of\n",
        "multiplexed PCR primers for amplifying these regions 3. Quality control\n",
        "metrics for your primer design\n",
        "\n",
        "## Resources\n",
        "\n",
        "-   IRTHO Documentation: [GitHub](https://github.com/sanjaynagi/irtho)\n",
        "-   multiply Documentation:\n",
        "    [GitHub](https://github.com/JasonAHendry/multiply)\n",
        "-   multiply Paper: [Nature Communications](placeholder-link)\n",
        "-   VectorBase: <https://vectorbase.org>"
      ],
      "metadata": {
        "id": "LBLrTp_k71KC"
      },
      "id": "LBLrTp_k71KC"
    },
    {
      "cell_type": "code",
      "source": [],
      "metadata": {
        "id": "2Db2AnzkG2t1"
      },
      "id": "2Db2AnzkG2t1",
      "execution_count": null,
      "outputs": []
    }
  ],
  "nbformat": 4,
  "nbformat_minor": 5,
  "metadata": {
    "colab": {
      "provenance": []
    },
    "language_info": {
      "name": "python"
    },
    "kernelspec": {
      "name": "python3",
      "display_name": "Python 3"
    }
  }
}